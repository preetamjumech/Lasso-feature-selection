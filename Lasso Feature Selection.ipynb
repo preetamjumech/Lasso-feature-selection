{
 "cells": [
  {
   "cell_type": "code",
   "execution_count": 13,
   "id": "282fb588",
   "metadata": {},
   "outputs": [],
   "source": [
    "import numpy as np\n",
    "from sklearn.datasets import load_diabetes\n",
    "from sklearn.linear_model import Lasso\n",
    "from sklearn.preprocessing import StandardScaler\n",
    "from sklearn.model_selection import GridSearchCV, train_test_split\n",
    "from sklearn.pipeline import Pipeline"
   ]
  },
  {
   "cell_type": "code",
   "execution_count": 3,
   "id": "83407406",
   "metadata": {},
   "outputs": [],
   "source": [
    "X, y = load_diabetes(return_X_y=True)"
   ]
  },
  {
   "cell_type": "code",
   "execution_count": 7,
   "id": "9df0e696",
   "metadata": {},
   "outputs": [
    {
     "data": {
      "text/plain": [
       "array([[ 0.03807591,  0.05068012,  0.06169621,  0.02187239, -0.0442235 ,\n",
       "        -0.03482076, -0.04340085, -0.00259226,  0.01990749, -0.01764613],\n",
       "       [-0.00188202, -0.04464164, -0.05147406, -0.02632753, -0.00844872,\n",
       "        -0.01916334,  0.07441156, -0.03949338, -0.06833155, -0.09220405],\n",
       "       [ 0.08529891,  0.05068012,  0.04445121, -0.00567042, -0.04559945,\n",
       "        -0.03419447, -0.03235593, -0.00259226,  0.00286131, -0.02593034],\n",
       "       [-0.08906294, -0.04464164, -0.01159501, -0.03665608,  0.01219057,\n",
       "         0.02499059, -0.03603757,  0.03430886,  0.02268774, -0.00936191],\n",
       "       [ 0.00538306, -0.04464164, -0.03638469,  0.02187239,  0.00393485,\n",
       "         0.01559614,  0.00814208, -0.00259226, -0.03198764, -0.04664087]])"
      ]
     },
     "execution_count": 7,
     "metadata": {},
     "output_type": "execute_result"
    }
   ],
   "source": [
    "X[:5]"
   ]
  },
  {
   "cell_type": "code",
   "execution_count": 8,
   "id": "46011718",
   "metadata": {},
   "outputs": [
    {
     "data": {
      "text/plain": [
       "array([151.,  75., 141., 206., 135.])"
      ]
     },
     "execution_count": 8,
     "metadata": {},
     "output_type": "execute_result"
    }
   ],
   "source": [
    "y[:5]"
   ]
  },
  {
   "cell_type": "code",
   "execution_count": 9,
   "id": "dc9b6492",
   "metadata": {},
   "outputs": [
    {
     "data": {
      "text/plain": [
       "{'data': array([[ 0.03807591,  0.05068012,  0.06169621, ..., -0.00259226,\n",
       "          0.01990749, -0.01764613],\n",
       "        [-0.00188202, -0.04464164, -0.05147406, ..., -0.03949338,\n",
       "         -0.06833155, -0.09220405],\n",
       "        [ 0.08529891,  0.05068012,  0.04445121, ..., -0.00259226,\n",
       "          0.00286131, -0.02593034],\n",
       "        ...,\n",
       "        [ 0.04170844,  0.05068012, -0.01590626, ..., -0.01107952,\n",
       "         -0.04688253,  0.01549073],\n",
       "        [-0.04547248, -0.04464164,  0.03906215, ...,  0.02655962,\n",
       "          0.04452873, -0.02593034],\n",
       "        [-0.04547248, -0.04464164, -0.0730303 , ..., -0.03949338,\n",
       "         -0.00422151,  0.00306441]]),\n",
       " 'target': array([151.,  75., 141., 206., 135.,  97., 138.,  63., 110., 310., 101.,\n",
       "         69., 179., 185., 118., 171., 166., 144.,  97., 168.,  68.,  49.,\n",
       "         68., 245., 184., 202., 137.,  85., 131., 283., 129.,  59., 341.,\n",
       "         87.,  65., 102., 265., 276., 252.,  90., 100.,  55.,  61.,  92.,\n",
       "        259.,  53., 190., 142.,  75., 142., 155., 225.,  59., 104., 182.,\n",
       "        128.,  52.,  37., 170., 170.,  61., 144.,  52., 128.,  71., 163.,\n",
       "        150.,  97., 160., 178.,  48., 270., 202., 111.,  85.,  42., 170.,\n",
       "        200., 252., 113., 143.,  51.,  52., 210.,  65., 141.,  55., 134.,\n",
       "         42., 111.,  98., 164.,  48.,  96.,  90., 162., 150., 279.,  92.,\n",
       "         83., 128., 102., 302., 198.,  95.,  53., 134., 144., 232.,  81.,\n",
       "        104.,  59., 246., 297., 258., 229., 275., 281., 179., 200., 200.,\n",
       "        173., 180.,  84., 121., 161.,  99., 109., 115., 268., 274., 158.,\n",
       "        107.,  83., 103., 272.,  85., 280., 336., 281., 118., 317., 235.,\n",
       "         60., 174., 259., 178., 128.,  96., 126., 288.,  88., 292.,  71.,\n",
       "        197., 186.,  25.,  84.,  96., 195.,  53., 217., 172., 131., 214.,\n",
       "         59.,  70., 220., 268., 152.,  47.,  74., 295., 101., 151., 127.,\n",
       "        237., 225.,  81., 151., 107.,  64., 138., 185., 265., 101., 137.,\n",
       "        143., 141.,  79., 292., 178.,  91., 116.,  86., 122.,  72., 129.,\n",
       "        142.,  90., 158.,  39., 196., 222., 277.,  99., 196., 202., 155.,\n",
       "         77., 191.,  70.,  73.,  49.,  65., 263., 248., 296., 214., 185.,\n",
       "         78.,  93., 252., 150.,  77., 208.,  77., 108., 160.,  53., 220.,\n",
       "        154., 259.,  90., 246., 124.,  67.,  72., 257., 262., 275., 177.,\n",
       "         71.,  47., 187., 125.,  78.,  51., 258., 215., 303., 243.,  91.,\n",
       "        150., 310., 153., 346.,  63.,  89.,  50.,  39., 103., 308., 116.,\n",
       "        145.,  74.,  45., 115., 264.,  87., 202., 127., 182., 241.,  66.,\n",
       "         94., 283.,  64., 102., 200., 265.,  94., 230., 181., 156., 233.,\n",
       "         60., 219.,  80.,  68., 332., 248.,  84., 200.,  55.,  85.,  89.,\n",
       "         31., 129.,  83., 275.,  65., 198., 236., 253., 124.,  44., 172.,\n",
       "        114., 142., 109., 180., 144., 163., 147.,  97., 220., 190., 109.,\n",
       "        191., 122., 230., 242., 248., 249., 192., 131., 237.,  78., 135.,\n",
       "        244., 199., 270., 164.,  72.,  96., 306.,  91., 214.,  95., 216.,\n",
       "        263., 178., 113., 200., 139., 139.,  88., 148.,  88., 243.,  71.,\n",
       "         77., 109., 272.,  60.,  54., 221.,  90., 311., 281., 182., 321.,\n",
       "         58., 262., 206., 233., 242., 123., 167.,  63., 197.,  71., 168.,\n",
       "        140., 217., 121., 235., 245.,  40.,  52., 104., 132.,  88.,  69.,\n",
       "        219.,  72., 201., 110.,  51., 277.,  63., 118.,  69., 273., 258.,\n",
       "         43., 198., 242., 232., 175.,  93., 168., 275., 293., 281.,  72.,\n",
       "        140., 189., 181., 209., 136., 261., 113., 131., 174., 257.,  55.,\n",
       "         84.,  42., 146., 212., 233.,  91., 111., 152., 120.,  67., 310.,\n",
       "         94., 183.,  66., 173.,  72.,  49.,  64.,  48., 178., 104., 132.,\n",
       "        220.,  57.]),\n",
       " 'frame': None,\n",
       " 'DESCR': '.. _diabetes_dataset:\\n\\nDiabetes dataset\\n----------------\\n\\nTen baseline variables, age, sex, body mass index, average blood\\npressure, and six blood serum measurements were obtained for each of n =\\n442 diabetes patients, as well as the response of interest, a\\nquantitative measure of disease progression one year after baseline.\\n\\n**Data Set Characteristics:**\\n\\n  :Number of Instances: 442\\n\\n  :Number of Attributes: First 10 columns are numeric predictive values\\n\\n  :Target: Column 11 is a quantitative measure of disease progression one year after baseline\\n\\n  :Attribute Information:\\n      - age     age in years\\n      - sex\\n      - bmi     body mass index\\n      - bp      average blood pressure\\n      - s1      tc, total serum cholesterol\\n      - s2      ldl, low-density lipoproteins\\n      - s3      hdl, high-density lipoproteins\\n      - s4      tch, total cholesterol / HDL\\n      - s5      ltg, possibly log of serum triglycerides level\\n      - s6      glu, blood sugar level\\n\\nNote: Each of these 10 feature variables have been mean centered and scaled by the standard deviation times the square root of `n_samples` (i.e. the sum of squares of each column totals 1).\\n\\nSource URL:\\nhttps://www4.stat.ncsu.edu/~boos/var.select/diabetes.html\\n\\nFor more information see:\\nBradley Efron, Trevor Hastie, Iain Johnstone and Robert Tibshirani (2004) \"Least Angle Regression,\" Annals of Statistics (with discussion), 407-499.\\n(https://web.stanford.edu/~hastie/Papers/LARS/LeastAngle_2002.pdf)\\n',\n",
       " 'feature_names': ['age',\n",
       "  'sex',\n",
       "  'bmi',\n",
       "  'bp',\n",
       "  's1',\n",
       "  's2',\n",
       "  's3',\n",
       "  's4',\n",
       "  's5',\n",
       "  's6'],\n",
       " 'data_filename': 'diabetes_data_raw.csv.gz',\n",
       " 'target_filename': 'diabetes_target.csv.gz',\n",
       " 'data_module': 'sklearn.datasets.data'}"
      ]
     },
     "execution_count": 9,
     "metadata": {},
     "output_type": "execute_result"
    }
   ],
   "source": [
    "load_diabetes()"
   ]
  },
  {
   "cell_type": "code",
   "execution_count": 11,
   "id": "ceccc6ed",
   "metadata": {},
   "outputs": [
    {
     "data": {
      "text/plain": [
       "['age', 'sex', 'bmi', 'bp', 's1', 's2', 's3', 's4', 's5', 's6']"
      ]
     },
     "execution_count": 11,
     "metadata": {},
     "output_type": "execute_result"
    }
   ],
   "source": [
    "features = load_diabetes()[\"feature_names\"]\n",
    "features"
   ]
  },
  {
   "cell_type": "code",
   "execution_count": 12,
   "id": "aea15e29",
   "metadata": {},
   "outputs": [],
   "source": [
    "X_train, X_test, y_train, y_test = train_test_split(X,y, test_size= 0.3, random_state= 42)"
   ]
  },
  {
   "cell_type": "code",
   "execution_count": 21,
   "id": "efb4404d",
   "metadata": {},
   "outputs": [],
   "source": [
    "pipeline = Pipeline(\n",
    "                    [(\"scaler\",StandardScaler()),\n",
    "                    (\"model\",Lasso())]\n",
    "\n",
    ")"
   ]
  },
  {
   "cell_type": "code",
   "execution_count": 22,
   "id": "4ab448a8",
   "metadata": {},
   "outputs": [],
   "source": [
    "search = GridSearchCV(\n",
    "                    pipeline,\n",
    "                    {\"model__alpha\":np.arange(0.1,3,0.1)},\n",
    "                     cv =5,\n",
    "                     scoring = \"neg_mean_squared_error\",\n",
    "                     verbose = 3\n",
    "\n",
    ")"
   ]
  },
  {
   "cell_type": "code",
   "execution_count": 23,
   "id": "5b7bee7d",
   "metadata": {},
   "outputs": [
    {
     "name": "stdout",
     "output_type": "stream",
     "text": [
      "Fitting 5 folds for each of 29 candidates, totalling 145 fits\n",
      "[CV 1/5] END ..............model__alpha=0.1;, score=-3129.370 total time=   0.0s\n",
      "[CV 2/5] END ..............model__alpha=0.1;, score=-3292.959 total time=   0.0s\n",
      "[CV 3/5] END ..............model__alpha=0.1;, score=-2840.933 total time=   0.0s\n",
      "[CV 4/5] END ..............model__alpha=0.1;, score=-3053.636 total time=   0.0s\n",
      "[CV 5/5] END ..............model__alpha=0.1;, score=-3515.712 total time=   0.0s\n",
      "[CV 1/5] END ..............model__alpha=0.2;, score=-3161.543 total time=   0.0s\n",
      "[CV 2/5] END ..............model__alpha=0.2;, score=-3280.634 total time=   0.0s\n",
      "[CV 3/5] END ..............model__alpha=0.2;, score=-2856.722 total time=   0.0s\n",
      "[CV 4/5] END ..............model__alpha=0.2;, score=-3054.048 total time=   0.0s\n",
      "[CV 5/5] END ..............model__alpha=0.2;, score=-3501.771 total time=   0.0s\n",
      "[CV 1/5] END model__alpha=0.30000000000000004;, score=-3170.054 total time=   0.0s\n",
      "[CV 2/5] END model__alpha=0.30000000000000004;, score=-3288.669 total time=   0.0s\n",
      "[CV 3/5] END model__alpha=0.30000000000000004;, score=-2861.215 total time=   0.0s\n",
      "[CV 4/5] END model__alpha=0.30000000000000004;, score=-3059.164 total time=   0.0s\n",
      "[CV 5/5] END model__alpha=0.30000000000000004;, score=-3494.276 total time=   0.0s\n",
      "[CV 1/5] END ..............model__alpha=0.4;, score=-3179.018 total time=   0.0s\n",
      "[CV 2/5] END ..............model__alpha=0.4;, score=-3290.724 total time=   0.0s\n",
      "[CV 3/5] END ..............model__alpha=0.4;, score=-2859.384 total time=   0.0s\n",
      "[CV 4/5] END ..............model__alpha=0.4;, score=-3062.129 total time=   0.0s\n",
      "[CV 5/5] END ..............model__alpha=0.4;, score=-3490.759 total time=   0.0s\n",
      "[CV 1/5] END ..............model__alpha=0.5;, score=-3188.438 total time=   0.0s\n",
      "[CV 2/5] END ..............model__alpha=0.5;, score=-3292.965 total time=   0.0s\n",
      "[CV 3/5] END ..............model__alpha=0.5;, score=-2857.822 total time=   0.0s\n",
      "[CV 4/5] END ..............model__alpha=0.5;, score=-3063.180 total time=   0.0s\n",
      "[CV 5/5] END ..............model__alpha=0.5;, score=-3486.164 total time=   0.0s\n",
      "[CV 1/5] END ..............model__alpha=0.6;, score=-3198.306 total time=   0.0s\n",
      "[CV 2/5] END ..............model__alpha=0.6;, score=-3295.417 total time=   0.0s\n",
      "[CV 3/5] END ..............model__alpha=0.6;, score=-2856.518 total time=   0.0s\n",
      "[CV 4/5] END ..............model__alpha=0.6;, score=-3064.835 total time=   0.0s\n",
      "[CV 5/5] END ..............model__alpha=0.6;, score=-3481.872 total time=   0.0s\n",
      "[CV 1/5] END model__alpha=0.7000000000000001;, score=-3209.258 total time=   0.0s\n",
      "[CV 2/5] END model__alpha=0.7000000000000001;, score=-3298.078 total time=   0.0s\n",
      "[CV 3/5] END model__alpha=0.7000000000000001;, score=-2855.485 total time=   0.0s\n",
      "[CV 4/5] END model__alpha=0.7000000000000001;, score=-3067.100 total time=   0.0s\n",
      "[CV 5/5] END model__alpha=0.7000000000000001;, score=-3477.871 total time=   0.0s\n",
      "[CV 1/5] END ..............model__alpha=0.8;, score=-3222.437 total time=   0.0s\n",
      "[CV 2/5] END ..............model__alpha=0.8;, score=-3300.949 total time=   0.0s\n",
      "[CV 3/5] END ..............model__alpha=0.8;, score=-2854.716 total time=   0.0s\n",
      "[CV 4/5] END ..............model__alpha=0.8;, score=-3069.962 total time=   0.0s\n",
      "[CV 5/5] END ..............model__alpha=0.8;, score=-3474.163 total time=   0.0s\n",
      "[CV 1/5] END ..............model__alpha=0.9;, score=-3236.049 total time=   0.0s\n",
      "[CV 2/5] END ..............model__alpha=0.9;, score=-3304.030 total time=   0.0s\n",
      "[CV 3/5] END ..............model__alpha=0.9;, score=-2854.212 total time=   0.0s\n",
      "[CV 4/5] END ..............model__alpha=0.9;, score=-3073.434 total time=   0.0s\n",
      "[CV 5/5] END ..............model__alpha=0.9;, score=-3470.745 total time=   0.0s\n",
      "[CV 1/5] END ..............model__alpha=1.0;, score=-3250.091 total time=   0.0s\n",
      "[CV 2/5] END ..............model__alpha=1.0;, score=-3307.324 total time=   0.0s\n",
      "[CV 3/5] END ..............model__alpha=1.0;, score=-2853.971 total time=   0.0s\n",
      "[CV 4/5] END ..............model__alpha=1.0;, score=-3077.511 total time=   0.0s\n",
      "[CV 5/5] END ..............model__alpha=1.0;, score=-3467.617 total time=   0.0s\n",
      "[CV 1/5] END ..............model__alpha=1.1;, score=-3263.863 total time=   0.0s\n",
      "[CV 2/5] END ..............model__alpha=1.1;, score=-3310.823 total time=   0.0s\n",
      "[CV 3/5] END ..............model__alpha=1.1;, score=-2853.994 total time=   0.0s\n",
      "[CV 4/5] END ..............model__alpha=1.1;, score=-3082.197 total time=   0.0s\n",
      "[CV 5/5] END ..............model__alpha=1.1;, score=-3464.793 total time=   0.0s\n",
      "[CV 1/5] END model__alpha=1.2000000000000002;, score=-3273.047 total time=   0.0s\n",
      "[CV 2/5] END model__alpha=1.2000000000000002;, score=-3314.537 total time=   0.0s\n",
      "[CV 3/5] END model__alpha=1.2000000000000002;, score=-2854.280 total time=   0.0s\n",
      "[CV 4/5] END model__alpha=1.2000000000000002;, score=-3083.861 total time=   0.0s\n",
      "[CV 5/5] END model__alpha=1.2000000000000002;, score=-3462.255 total time=   0.0s\n",
      "[CV 1/5] END model__alpha=1.3000000000000003;, score=-3282.425 total time=   0.0s\n",
      "[CV 2/5] END model__alpha=1.3000000000000003;, score=-3318.458 total time=   0.0s\n",
      "[CV 3/5] END model__alpha=1.3000000000000003;, score=-2854.829 total time=   0.0s\n",
      "[CV 4/5] END model__alpha=1.3000000000000003;, score=-3083.949 total time=   0.0s\n",
      "[CV 5/5] END model__alpha=1.3000000000000003;, score=-3460.000 total time=   0.0s\n",
      "[CV 1/5] END model__alpha=1.4000000000000001;, score=-3292.032 total time=   0.0s\n",
      "[CV 2/5] END model__alpha=1.4000000000000001;, score=-3322.587 total time=   0.0s\n",
      "[CV 3/5] END model__alpha=1.4000000000000001;, score=-2855.325 total time=   0.0s\n",
      "[CV 4/5] END model__alpha=1.4000000000000001;, score=-3084.305 total time=   0.0s\n",
      "[CV 5/5] END model__alpha=1.4000000000000001;, score=-3458.055 total time=   0.0s\n",
      "[CV 1/5] END model__alpha=1.5000000000000002;, score=-3301.867 total time=   0.0s\n",
      "[CV 2/5] END model__alpha=1.5000000000000002;, score=-3326.899 total time=   0.0s\n",
      "[CV 3/5] END model__alpha=1.5000000000000002;, score=-2852.348 total time=   0.0s\n",
      "[CV 4/5] END model__alpha=1.5000000000000002;, score=-3084.931 total time=   0.0s\n",
      "[CV 5/5] END model__alpha=1.5000000000000002;, score=-3453.782 total time=   0.0s\n",
      "[CV 1/5] END ..............model__alpha=1.6;, score=-3311.872 total time=   0.0s\n",
      "[CV 2/5] END ..............model__alpha=1.6;, score=-3331.405 total time=   0.0s\n",
      "[CV 3/5] END ..............model__alpha=1.6;, score=-2849.502 total time=   0.0s\n",
      "[CV 4/5] END ..............model__alpha=1.6;, score=-3085.826 total time=   0.0s\n",
      "[CV 5/5] END ..............model__alpha=1.6;, score=-3449.096 total time=   0.0s\n",
      "[CV 1/5] END model__alpha=1.7000000000000002;, score=-3322.083 total time=   0.0s\n",
      "[CV 2/5] END model__alpha=1.7000000000000002;, score=-3336.161 total time=   0.0s\n",
      "[CV 3/5] END model__alpha=1.7000000000000002;, score=-2846.781 total time=   0.0s\n",
      "[CV 4/5] END model__alpha=1.7000000000000002;, score=-3086.996 total time=   0.0s\n",
      "[CV 5/5] END model__alpha=1.7000000000000002;, score=-3444.551 total time=   0.0s\n",
      "[CV 1/5] END model__alpha=1.8000000000000003;, score=-3332.501 total time=   0.0s\n",
      "[CV 2/5] END model__alpha=1.8000000000000003;, score=-3341.128 total time=   0.0s\n",
      "[CV 3/5] END model__alpha=1.8000000000000003;, score=-2844.191 total time=   0.0s\n",
      "[CV 4/5] END model__alpha=1.8000000000000003;, score=-3088.428 total time=   0.0s\n",
      "[CV 5/5] END model__alpha=1.8000000000000003;, score=-3440.135 total time=   0.0s\n",
      "[CV 1/5] END model__alpha=1.9000000000000001;, score=-3342.646 total time=   0.0s\n",
      "[CV 2/5] END model__alpha=1.9000000000000001;, score=-3346.304 total time=   0.0s\n",
      "[CV 3/5] END model__alpha=1.9000000000000001;, score=-2841.731 total time=   0.0s\n",
      "[CV 4/5] END model__alpha=1.9000000000000001;, score=-3090.130 total time=   0.0s\n",
      "[CV 5/5] END model__alpha=1.9000000000000001;, score=-3435.834 total time=   0.0s\n",
      "[CV 1/5] END ..............model__alpha=2.0;, score=-3352.349 total time=   0.0s\n",
      "[CV 2/5] END ..............model__alpha=2.0;, score=-3351.693 total time=   0.0s\n",
      "[CV 3/5] END ..............model__alpha=2.0;, score=-2839.403 total time=   0.0s\n",
      "[CV 4/5] END ..............model__alpha=2.0;, score=-3092.101 total time=   0.0s\n",
      "[CV 5/5] END ..............model__alpha=2.0;, score=-3431.659 total time=   0.0s\n",
      "[CV 1/5] END ..............model__alpha=2.1;, score=-3363.194 total time=   0.0s\n",
      "[CV 2/5] END ..............model__alpha=2.1;, score=-3351.083 total time=   0.0s\n",
      "[CV 3/5] END ..............model__alpha=2.1;, score=-2837.202 total time=   0.0s\n",
      "[CV 4/5] END ..............model__alpha=2.1;, score=-3094.341 total time=   0.0s\n",
      "[CV 5/5] END ..............model__alpha=2.1;, score=-3427.611 total time=   0.0s\n",
      "[CV 1/5] END ..............model__alpha=2.2;, score=-3375.407 total time=   0.0s\n",
      "[CV 2/5] END ..............model__alpha=2.2;, score=-3350.225 total time=   0.0s\n",
      "[CV 3/5] END ..............model__alpha=2.2;, score=-2835.128 total time=   0.0s\n",
      "[CV 4/5] END ..............model__alpha=2.2;, score=-3096.850 total time=   0.0s\n",
      "[CV 5/5] END ..............model__alpha=2.2;, score=-3423.690 total time=   0.0s\n",
      "[CV 1/5] END model__alpha=2.3000000000000003;, score=-3387.832 total time=   0.0s\n",
      "[CV 2/5] END model__alpha=2.3000000000000003;, score=-3349.426 total time=   0.0s\n",
      "[CV 3/5] END model__alpha=2.3000000000000003;, score=-2833.186 total time=   0.0s\n",
      "[CV 4/5] END model__alpha=2.3000000000000003;, score=-3099.628 total time=   0.0s\n",
      "[CV 5/5] END model__alpha=2.3000000000000003;, score=-3419.895 total time=   0.0s\n",
      "[CV 1/5] END model__alpha=2.4000000000000004;, score=-3398.744 total time=   0.0s\n",
      "[CV 2/5] END model__alpha=2.4000000000000004;, score=-3348.698 total time=   0.0s\n",
      "[CV 3/5] END model__alpha=2.4000000000000004;, score=-2831.372 total time=   0.0s\n",
      "[CV 4/5] END model__alpha=2.4000000000000004;, score=-3102.890 total time=   0.0s\n",
      "[CV 5/5] END model__alpha=2.4000000000000004;, score=-3416.226 total time=   0.0s\n",
      "[CV 1/5] END model__alpha=2.5000000000000004;, score=-3408.558 total time=   0.0s\n",
      "[CV 2/5] END model__alpha=2.5000000000000004;, score=-3348.122 total time=   0.0s\n",
      "[CV 3/5] END model__alpha=2.5000000000000004;, score=-2829.946 total time=   0.0s\n",
      "[CV 4/5] END model__alpha=2.5000000000000004;, score=-3106.784 total time=   0.0s\n",
      "[CV 5/5] END model__alpha=2.5000000000000004;, score=-3412.683 total time=   0.0s\n",
      "[CV 1/5] END ..............model__alpha=2.6;, score=-3418.543 total time=   0.0s\n",
      "[CV 2/5] END ..............model__alpha=2.6;, score=-3347.596 total time=   0.0s\n",
      "[CV 3/5] END ..............model__alpha=2.6;, score=-2828.751 total time=   0.0s\n",
      "[CV 4/5] END ..............model__alpha=2.6;, score=-3110.929 total time=   0.0s\n",
      "[CV 5/5] END ..............model__alpha=2.6;, score=-3409.268 total time=   0.0s\n",
      "[CV 1/5] END ..............model__alpha=2.7;, score=-3428.699 total time=   0.0s\n",
      "[CV 2/5] END ..............model__alpha=2.7;, score=-3347.168 total time=   0.0s\n",
      "[CV 3/5] END ..............model__alpha=2.7;, score=-2827.735 total time=   0.0s\n",
      "[CV 4/5] END ..............model__alpha=2.7;, score=-3115.330 total time=   0.0s\n",
      "[CV 5/5] END ..............model__alpha=2.7;, score=-3405.978 total time=   0.0s\n",
      "[CV 1/5] END model__alpha=2.8000000000000003;, score=-3439.027 total time=   0.0s\n",
      "[CV 2/5] END model__alpha=2.8000000000000003;, score=-3346.831 total time=   0.0s\n",
      "[CV 3/5] END model__alpha=2.8000000000000003;, score=-2828.189 total time=   0.0s\n",
      "[CV 4/5] END model__alpha=2.8000000000000003;, score=-3119.978 total time=   0.0s\n",
      "[CV 5/5] END model__alpha=2.8000000000000003;, score=-3402.815 total time=   0.0s\n",
      "[CV 1/5] END model__alpha=2.9000000000000004;, score=-3449.525 total time=   0.0s\n",
      "[CV 2/5] END model__alpha=2.9000000000000004;, score=-3346.584 total time=   0.0s\n",
      "[CV 3/5] END model__alpha=2.9000000000000004;, score=-2828.790 total time=   0.0s\n",
      "[CV 4/5] END model__alpha=2.9000000000000004;, score=-3124.877 total time=   0.0s\n"
     ]
    },
    {
     "name": "stdout",
     "output_type": "stream",
     "text": [
      "[CV 5/5] END model__alpha=2.9000000000000004;, score=-3399.778 total time=   0.0s\n"
     ]
    },
    {
     "data": {
      "text/html": [
       "<style>#sk-container-id-1 {color: black;background-color: white;}#sk-container-id-1 pre{padding: 0;}#sk-container-id-1 div.sk-toggleable {background-color: white;}#sk-container-id-1 label.sk-toggleable__label {cursor: pointer;display: block;width: 100%;margin-bottom: 0;padding: 0.3em;box-sizing: border-box;text-align: center;}#sk-container-id-1 label.sk-toggleable__label-arrow:before {content: \"▸\";float: left;margin-right: 0.25em;color: #696969;}#sk-container-id-1 label.sk-toggleable__label-arrow:hover:before {color: black;}#sk-container-id-1 div.sk-estimator:hover label.sk-toggleable__label-arrow:before {color: black;}#sk-container-id-1 div.sk-toggleable__content {max-height: 0;max-width: 0;overflow: hidden;text-align: left;background-color: #f0f8ff;}#sk-container-id-1 div.sk-toggleable__content pre {margin: 0.2em;color: black;border-radius: 0.25em;background-color: #f0f8ff;}#sk-container-id-1 input.sk-toggleable__control:checked~div.sk-toggleable__content {max-height: 200px;max-width: 100%;overflow: auto;}#sk-container-id-1 input.sk-toggleable__control:checked~label.sk-toggleable__label-arrow:before {content: \"▾\";}#sk-container-id-1 div.sk-estimator input.sk-toggleable__control:checked~label.sk-toggleable__label {background-color: #d4ebff;}#sk-container-id-1 div.sk-label input.sk-toggleable__control:checked~label.sk-toggleable__label {background-color: #d4ebff;}#sk-container-id-1 input.sk-hidden--visually {border: 0;clip: rect(1px 1px 1px 1px);clip: rect(1px, 1px, 1px, 1px);height: 1px;margin: -1px;overflow: hidden;padding: 0;position: absolute;width: 1px;}#sk-container-id-1 div.sk-estimator {font-family: monospace;background-color: #f0f8ff;border: 1px dotted black;border-radius: 0.25em;box-sizing: border-box;margin-bottom: 0.5em;}#sk-container-id-1 div.sk-estimator:hover {background-color: #d4ebff;}#sk-container-id-1 div.sk-parallel-item::after {content: \"\";width: 100%;border-bottom: 1px solid gray;flex-grow: 1;}#sk-container-id-1 div.sk-label:hover label.sk-toggleable__label {background-color: #d4ebff;}#sk-container-id-1 div.sk-serial::before {content: \"\";position: absolute;border-left: 1px solid gray;box-sizing: border-box;top: 0;bottom: 0;left: 50%;z-index: 0;}#sk-container-id-1 div.sk-serial {display: flex;flex-direction: column;align-items: center;background-color: white;padding-right: 0.2em;padding-left: 0.2em;position: relative;}#sk-container-id-1 div.sk-item {position: relative;z-index: 1;}#sk-container-id-1 div.sk-parallel {display: flex;align-items: stretch;justify-content: center;background-color: white;position: relative;}#sk-container-id-1 div.sk-item::before, #sk-container-id-1 div.sk-parallel-item::before {content: \"\";position: absolute;border-left: 1px solid gray;box-sizing: border-box;top: 0;bottom: 0;left: 50%;z-index: -1;}#sk-container-id-1 div.sk-parallel-item {display: flex;flex-direction: column;z-index: 1;position: relative;background-color: white;}#sk-container-id-1 div.sk-parallel-item:first-child::after {align-self: flex-end;width: 50%;}#sk-container-id-1 div.sk-parallel-item:last-child::after {align-self: flex-start;width: 50%;}#sk-container-id-1 div.sk-parallel-item:only-child::after {width: 0;}#sk-container-id-1 div.sk-dashed-wrapped {border: 1px dashed gray;margin: 0 0.4em 0.5em 0.4em;box-sizing: border-box;padding-bottom: 0.4em;background-color: white;}#sk-container-id-1 div.sk-label label {font-family: monospace;font-weight: bold;display: inline-block;line-height: 1.2em;}#sk-container-id-1 div.sk-label-container {text-align: center;}#sk-container-id-1 div.sk-container {/* jupyter's `normalize.less` sets `[hidden] { display: none; }` but bootstrap.min.css set `[hidden] { display: none !important; }` so we also need the `!important` here to be able to override the default hidden behavior on the sphinx rendered scikit-learn.org. See: https://github.com/scikit-learn/scikit-learn/issues/21755 */display: inline-block !important;position: relative;}#sk-container-id-1 div.sk-text-repr-fallback {display: none;}</style><div id=\"sk-container-id-1\" class=\"sk-top-container\"><div class=\"sk-text-repr-fallback\"><pre>GridSearchCV(cv=5,\n",
       "             estimator=Pipeline(steps=[(&#x27;scaler&#x27;, StandardScaler()),\n",
       "                                       (&#x27;model&#x27;, Lasso())]),\n",
       "             param_grid={&#x27;model__alpha&#x27;: array([0.1, 0.2, 0.3, 0.4, 0.5, 0.6, 0.7, 0.8, 0.9, 1. , 1.1, 1.2, 1.3,\n",
       "       1.4, 1.5, 1.6, 1.7, 1.8, 1.9, 2. , 2.1, 2.2, 2.3, 2.4, 2.5, 2.6,\n",
       "       2.7, 2.8, 2.9])},\n",
       "             scoring=&#x27;neg_mean_squared_error&#x27;, verbose=3)</pre><b>In a Jupyter environment, please rerun this cell to show the HTML representation or trust the notebook. <br />On GitHub, the HTML representation is unable to render, please try loading this page with nbviewer.org.</b></div><div class=\"sk-container\" hidden><div class=\"sk-item sk-dashed-wrapped\"><div class=\"sk-label-container\"><div class=\"sk-label sk-toggleable\"><input class=\"sk-toggleable__control sk-hidden--visually\" id=\"sk-estimator-id-1\" type=\"checkbox\" ><label for=\"sk-estimator-id-1\" class=\"sk-toggleable__label sk-toggleable__label-arrow\">GridSearchCV</label><div class=\"sk-toggleable__content\"><pre>GridSearchCV(cv=5,\n",
       "             estimator=Pipeline(steps=[(&#x27;scaler&#x27;, StandardScaler()),\n",
       "                                       (&#x27;model&#x27;, Lasso())]),\n",
       "             param_grid={&#x27;model__alpha&#x27;: array([0.1, 0.2, 0.3, 0.4, 0.5, 0.6, 0.7, 0.8, 0.9, 1. , 1.1, 1.2, 1.3,\n",
       "       1.4, 1.5, 1.6, 1.7, 1.8, 1.9, 2. , 2.1, 2.2, 2.3, 2.4, 2.5, 2.6,\n",
       "       2.7, 2.8, 2.9])},\n",
       "             scoring=&#x27;neg_mean_squared_error&#x27;, verbose=3)</pre></div></div></div><div class=\"sk-parallel\"><div class=\"sk-parallel-item\"><div class=\"sk-item\"><div class=\"sk-label-container\"><div class=\"sk-label sk-toggleable\"><input class=\"sk-toggleable__control sk-hidden--visually\" id=\"sk-estimator-id-2\" type=\"checkbox\" ><label for=\"sk-estimator-id-2\" class=\"sk-toggleable__label sk-toggleable__label-arrow\">estimator: Pipeline</label><div class=\"sk-toggleable__content\"><pre>Pipeline(steps=[(&#x27;scaler&#x27;, StandardScaler()), (&#x27;model&#x27;, Lasso())])</pre></div></div></div><div class=\"sk-serial\"><div class=\"sk-item\"><div class=\"sk-serial\"><div class=\"sk-item\"><div class=\"sk-estimator sk-toggleable\"><input class=\"sk-toggleable__control sk-hidden--visually\" id=\"sk-estimator-id-3\" type=\"checkbox\" ><label for=\"sk-estimator-id-3\" class=\"sk-toggleable__label sk-toggleable__label-arrow\">StandardScaler</label><div class=\"sk-toggleable__content\"><pre>StandardScaler()</pre></div></div></div><div class=\"sk-item\"><div class=\"sk-estimator sk-toggleable\"><input class=\"sk-toggleable__control sk-hidden--visually\" id=\"sk-estimator-id-4\" type=\"checkbox\" ><label for=\"sk-estimator-id-4\" class=\"sk-toggleable__label sk-toggleable__label-arrow\">Lasso</label><div class=\"sk-toggleable__content\"><pre>Lasso()</pre></div></div></div></div></div></div></div></div></div></div></div></div>"
      ],
      "text/plain": [
       "GridSearchCV(cv=5,\n",
       "             estimator=Pipeline(steps=[('scaler', StandardScaler()),\n",
       "                                       ('model', Lasso())]),\n",
       "             param_grid={'model__alpha': array([0.1, 0.2, 0.3, 0.4, 0.5, 0.6, 0.7, 0.8, 0.9, 1. , 1.1, 1.2, 1.3,\n",
       "       1.4, 1.5, 1.6, 1.7, 1.8, 1.9, 2. , 2.1, 2.2, 2.3, 2.4, 2.5, 2.6,\n",
       "       2.7, 2.8, 2.9])},\n",
       "             scoring='neg_mean_squared_error', verbose=3)"
      ]
     },
     "execution_count": 23,
     "metadata": {},
     "output_type": "execute_result"
    }
   ],
   "source": [
    "search.fit(X_train,y_train)"
   ]
  },
  {
   "cell_type": "code",
   "execution_count": 24,
   "id": "145bc07a",
   "metadata": {},
   "outputs": [
    {
     "data": {
      "text/plain": [
       "{'model__alpha': 0.1}"
      ]
     },
     "execution_count": 24,
     "metadata": {},
     "output_type": "execute_result"
    }
   ],
   "source": [
    "search.best_params_"
   ]
  },
  {
   "cell_type": "code",
   "execution_count": 25,
   "id": "44616f05",
   "metadata": {},
   "outputs": [
    {
     "data": {
      "text/html": [
       "<style>#sk-container-id-2 {color: black;background-color: white;}#sk-container-id-2 pre{padding: 0;}#sk-container-id-2 div.sk-toggleable {background-color: white;}#sk-container-id-2 label.sk-toggleable__label {cursor: pointer;display: block;width: 100%;margin-bottom: 0;padding: 0.3em;box-sizing: border-box;text-align: center;}#sk-container-id-2 label.sk-toggleable__label-arrow:before {content: \"▸\";float: left;margin-right: 0.25em;color: #696969;}#sk-container-id-2 label.sk-toggleable__label-arrow:hover:before {color: black;}#sk-container-id-2 div.sk-estimator:hover label.sk-toggleable__label-arrow:before {color: black;}#sk-container-id-2 div.sk-toggleable__content {max-height: 0;max-width: 0;overflow: hidden;text-align: left;background-color: #f0f8ff;}#sk-container-id-2 div.sk-toggleable__content pre {margin: 0.2em;color: black;border-radius: 0.25em;background-color: #f0f8ff;}#sk-container-id-2 input.sk-toggleable__control:checked~div.sk-toggleable__content {max-height: 200px;max-width: 100%;overflow: auto;}#sk-container-id-2 input.sk-toggleable__control:checked~label.sk-toggleable__label-arrow:before {content: \"▾\";}#sk-container-id-2 div.sk-estimator input.sk-toggleable__control:checked~label.sk-toggleable__label {background-color: #d4ebff;}#sk-container-id-2 div.sk-label input.sk-toggleable__control:checked~label.sk-toggleable__label {background-color: #d4ebff;}#sk-container-id-2 input.sk-hidden--visually {border: 0;clip: rect(1px 1px 1px 1px);clip: rect(1px, 1px, 1px, 1px);height: 1px;margin: -1px;overflow: hidden;padding: 0;position: absolute;width: 1px;}#sk-container-id-2 div.sk-estimator {font-family: monospace;background-color: #f0f8ff;border: 1px dotted black;border-radius: 0.25em;box-sizing: border-box;margin-bottom: 0.5em;}#sk-container-id-2 div.sk-estimator:hover {background-color: #d4ebff;}#sk-container-id-2 div.sk-parallel-item::after {content: \"\";width: 100%;border-bottom: 1px solid gray;flex-grow: 1;}#sk-container-id-2 div.sk-label:hover label.sk-toggleable__label {background-color: #d4ebff;}#sk-container-id-2 div.sk-serial::before {content: \"\";position: absolute;border-left: 1px solid gray;box-sizing: border-box;top: 0;bottom: 0;left: 50%;z-index: 0;}#sk-container-id-2 div.sk-serial {display: flex;flex-direction: column;align-items: center;background-color: white;padding-right: 0.2em;padding-left: 0.2em;position: relative;}#sk-container-id-2 div.sk-item {position: relative;z-index: 1;}#sk-container-id-2 div.sk-parallel {display: flex;align-items: stretch;justify-content: center;background-color: white;position: relative;}#sk-container-id-2 div.sk-item::before, #sk-container-id-2 div.sk-parallel-item::before {content: \"\";position: absolute;border-left: 1px solid gray;box-sizing: border-box;top: 0;bottom: 0;left: 50%;z-index: -1;}#sk-container-id-2 div.sk-parallel-item {display: flex;flex-direction: column;z-index: 1;position: relative;background-color: white;}#sk-container-id-2 div.sk-parallel-item:first-child::after {align-self: flex-end;width: 50%;}#sk-container-id-2 div.sk-parallel-item:last-child::after {align-self: flex-start;width: 50%;}#sk-container-id-2 div.sk-parallel-item:only-child::after {width: 0;}#sk-container-id-2 div.sk-dashed-wrapped {border: 1px dashed gray;margin: 0 0.4em 0.5em 0.4em;box-sizing: border-box;padding-bottom: 0.4em;background-color: white;}#sk-container-id-2 div.sk-label label {font-family: monospace;font-weight: bold;display: inline-block;line-height: 1.2em;}#sk-container-id-2 div.sk-label-container {text-align: center;}#sk-container-id-2 div.sk-container {/* jupyter's `normalize.less` sets `[hidden] { display: none; }` but bootstrap.min.css set `[hidden] { display: none !important; }` so we also need the `!important` here to be able to override the default hidden behavior on the sphinx rendered scikit-learn.org. See: https://github.com/scikit-learn/scikit-learn/issues/21755 */display: inline-block !important;position: relative;}#sk-container-id-2 div.sk-text-repr-fallback {display: none;}</style><div id=\"sk-container-id-2\" class=\"sk-top-container\"><div class=\"sk-text-repr-fallback\"><pre>Pipeline(steps=[(&#x27;scaler&#x27;, StandardScaler()), (&#x27;model&#x27;, Lasso(alpha=0.1))])</pre><b>In a Jupyter environment, please rerun this cell to show the HTML representation or trust the notebook. <br />On GitHub, the HTML representation is unable to render, please try loading this page with nbviewer.org.</b></div><div class=\"sk-container\" hidden><div class=\"sk-item sk-dashed-wrapped\"><div class=\"sk-label-container\"><div class=\"sk-label sk-toggleable\"><input class=\"sk-toggleable__control sk-hidden--visually\" id=\"sk-estimator-id-5\" type=\"checkbox\" ><label for=\"sk-estimator-id-5\" class=\"sk-toggleable__label sk-toggleable__label-arrow\">Pipeline</label><div class=\"sk-toggleable__content\"><pre>Pipeline(steps=[(&#x27;scaler&#x27;, StandardScaler()), (&#x27;model&#x27;, Lasso(alpha=0.1))])</pre></div></div></div><div class=\"sk-serial\"><div class=\"sk-item\"><div class=\"sk-estimator sk-toggleable\"><input class=\"sk-toggleable__control sk-hidden--visually\" id=\"sk-estimator-id-6\" type=\"checkbox\" ><label for=\"sk-estimator-id-6\" class=\"sk-toggleable__label sk-toggleable__label-arrow\">StandardScaler</label><div class=\"sk-toggleable__content\"><pre>StandardScaler()</pre></div></div></div><div class=\"sk-item\"><div class=\"sk-estimator sk-toggleable\"><input class=\"sk-toggleable__control sk-hidden--visually\" id=\"sk-estimator-id-7\" type=\"checkbox\" ><label for=\"sk-estimator-id-7\" class=\"sk-toggleable__label sk-toggleable__label-arrow\">Lasso</label><div class=\"sk-toggleable__content\"><pre>Lasso(alpha=0.1)</pre></div></div></div></div></div></div></div>"
      ],
      "text/plain": [
       "Pipeline(steps=[('scaler', StandardScaler()), ('model', Lasso(alpha=0.1))])"
      ]
     },
     "execution_count": 25,
     "metadata": {},
     "output_type": "execute_result"
    }
   ],
   "source": [
    "search.best_estimator_"
   ]
  },
  {
   "cell_type": "code",
   "execution_count": 26,
   "id": "0524d759",
   "metadata": {},
   "outputs": [
    {
     "data": {
      "text/plain": [
       "-3166.522087748828"
      ]
     },
     "execution_count": 26,
     "metadata": {},
     "output_type": "execute_result"
    }
   ],
   "source": [
    "search.best_score_"
   ]
  },
  {
   "cell_type": "code",
   "execution_count": 27,
   "id": "07519051",
   "metadata": {},
   "outputs": [
    {
     "data": {
      "text/html": [
       "<style>#sk-container-id-3 {color: black;background-color: white;}#sk-container-id-3 pre{padding: 0;}#sk-container-id-3 div.sk-toggleable {background-color: white;}#sk-container-id-3 label.sk-toggleable__label {cursor: pointer;display: block;width: 100%;margin-bottom: 0;padding: 0.3em;box-sizing: border-box;text-align: center;}#sk-container-id-3 label.sk-toggleable__label-arrow:before {content: \"▸\";float: left;margin-right: 0.25em;color: #696969;}#sk-container-id-3 label.sk-toggleable__label-arrow:hover:before {color: black;}#sk-container-id-3 div.sk-estimator:hover label.sk-toggleable__label-arrow:before {color: black;}#sk-container-id-3 div.sk-toggleable__content {max-height: 0;max-width: 0;overflow: hidden;text-align: left;background-color: #f0f8ff;}#sk-container-id-3 div.sk-toggleable__content pre {margin: 0.2em;color: black;border-radius: 0.25em;background-color: #f0f8ff;}#sk-container-id-3 input.sk-toggleable__control:checked~div.sk-toggleable__content {max-height: 200px;max-width: 100%;overflow: auto;}#sk-container-id-3 input.sk-toggleable__control:checked~label.sk-toggleable__label-arrow:before {content: \"▾\";}#sk-container-id-3 div.sk-estimator input.sk-toggleable__control:checked~label.sk-toggleable__label {background-color: #d4ebff;}#sk-container-id-3 div.sk-label input.sk-toggleable__control:checked~label.sk-toggleable__label {background-color: #d4ebff;}#sk-container-id-3 input.sk-hidden--visually {border: 0;clip: rect(1px 1px 1px 1px);clip: rect(1px, 1px, 1px, 1px);height: 1px;margin: -1px;overflow: hidden;padding: 0;position: absolute;width: 1px;}#sk-container-id-3 div.sk-estimator {font-family: monospace;background-color: #f0f8ff;border: 1px dotted black;border-radius: 0.25em;box-sizing: border-box;margin-bottom: 0.5em;}#sk-container-id-3 div.sk-estimator:hover {background-color: #d4ebff;}#sk-container-id-3 div.sk-parallel-item::after {content: \"\";width: 100%;border-bottom: 1px solid gray;flex-grow: 1;}#sk-container-id-3 div.sk-label:hover label.sk-toggleable__label {background-color: #d4ebff;}#sk-container-id-3 div.sk-serial::before {content: \"\";position: absolute;border-left: 1px solid gray;box-sizing: border-box;top: 0;bottom: 0;left: 50%;z-index: 0;}#sk-container-id-3 div.sk-serial {display: flex;flex-direction: column;align-items: center;background-color: white;padding-right: 0.2em;padding-left: 0.2em;position: relative;}#sk-container-id-3 div.sk-item {position: relative;z-index: 1;}#sk-container-id-3 div.sk-parallel {display: flex;align-items: stretch;justify-content: center;background-color: white;position: relative;}#sk-container-id-3 div.sk-item::before, #sk-container-id-3 div.sk-parallel-item::before {content: \"\";position: absolute;border-left: 1px solid gray;box-sizing: border-box;top: 0;bottom: 0;left: 50%;z-index: -1;}#sk-container-id-3 div.sk-parallel-item {display: flex;flex-direction: column;z-index: 1;position: relative;background-color: white;}#sk-container-id-3 div.sk-parallel-item:first-child::after {align-self: flex-end;width: 50%;}#sk-container-id-3 div.sk-parallel-item:last-child::after {align-self: flex-start;width: 50%;}#sk-container-id-3 div.sk-parallel-item:only-child::after {width: 0;}#sk-container-id-3 div.sk-dashed-wrapped {border: 1px dashed gray;margin: 0 0.4em 0.5em 0.4em;box-sizing: border-box;padding-bottom: 0.4em;background-color: white;}#sk-container-id-3 div.sk-label label {font-family: monospace;font-weight: bold;display: inline-block;line-height: 1.2em;}#sk-container-id-3 div.sk-label-container {text-align: center;}#sk-container-id-3 div.sk-container {/* jupyter's `normalize.less` sets `[hidden] { display: none; }` but bootstrap.min.css set `[hidden] { display: none !important; }` so we also need the `!important` here to be able to override the default hidden behavior on the sphinx rendered scikit-learn.org. See: https://github.com/scikit-learn/scikit-learn/issues/21755 */display: inline-block !important;position: relative;}#sk-container-id-3 div.sk-text-repr-fallback {display: none;}</style><div id=\"sk-container-id-3\" class=\"sk-top-container\"><div class=\"sk-text-repr-fallback\"><pre>Lasso(alpha=0.1)</pre><b>In a Jupyter environment, please rerun this cell to show the HTML representation or trust the notebook. <br />On GitHub, the HTML representation is unable to render, please try loading this page with nbviewer.org.</b></div><div class=\"sk-container\" hidden><div class=\"sk-item\"><div class=\"sk-estimator sk-toggleable\"><input class=\"sk-toggleable__control sk-hidden--visually\" id=\"sk-estimator-id-8\" type=\"checkbox\" checked><label for=\"sk-estimator-id-8\" class=\"sk-toggleable__label sk-toggleable__label-arrow\">Lasso</label><div class=\"sk-toggleable__content\"><pre>Lasso(alpha=0.1)</pre></div></div></div></div></div>"
      ],
      "text/plain": [
       "Lasso(alpha=0.1)"
      ]
     },
     "execution_count": 27,
     "metadata": {},
     "output_type": "execute_result"
    }
   ],
   "source": [
    "search.best_estimator_[1]"
   ]
  },
  {
   "cell_type": "code",
   "execution_count": 31,
   "id": "8243e10b",
   "metadata": {},
   "outputs": [
    {
     "data": {
      "text/plain": [
       "array([  1.364918  , -12.21558692,  26.45121861,  18.40929882,\n",
       "       -30.54131232,  14.55719971,   0.        ,  11.74486066,\n",
       "        26.79441432,   2.06055063])"
      ]
     },
     "execution_count": 31,
     "metadata": {},
     "output_type": "execute_result"
    }
   ],
   "source": [
    "coef = search.best_estimator_[1].coef_\n",
    "coef"
   ]
  },
  {
   "cell_type": "code",
   "execution_count": 39,
   "id": "65f3ff2b",
   "metadata": {},
   "outputs": [
    {
     "data": {
      "text/plain": [
       "array([ True,  True,  True,  True,  True,  True, False,  True,  True,\n",
       "        True])"
      ]
     },
     "execution_count": 39,
     "metadata": {},
     "output_type": "execute_result"
    }
   ],
   "source": [
    "coef!=0"
   ]
  },
  {
   "cell_type": "code",
   "execution_count": 38,
   "id": "fbb29be9",
   "metadata": {},
   "outputs": [
    {
     "data": {
      "text/plain": [
       "array(['age', 'sex', 'bmi', 'bp', 's1', 's2', 's3', 's4', 's5', 's6'],\n",
       "      dtype='<U3')"
      ]
     },
     "execution_count": 38,
     "metadata": {},
     "output_type": "execute_result"
    }
   ],
   "source": [
    "np.array(features)"
   ]
  },
  {
   "cell_type": "code",
   "execution_count": 33,
   "id": "cb41ebdd",
   "metadata": {},
   "outputs": [
    {
     "data": {
      "text/plain": [
       "array(['age', 'sex', 'bmi', 'bp', 's1', 's2', 's4', 's5', 's6'],\n",
       "      dtype='<U3')"
      ]
     },
     "execution_count": 33,
     "metadata": {},
     "output_type": "execute_result"
    }
   ],
   "source": [
    "np.array(features)[coef!= 0]"
   ]
  },
  {
   "cell_type": "code",
   "execution_count": 34,
   "id": "25c6c927",
   "metadata": {},
   "outputs": [
    {
     "data": {
      "text/plain": [
       "array(['s3'], dtype='<U3')"
      ]
     },
     "execution_count": 34,
     "metadata": {},
     "output_type": "execute_result"
    }
   ],
   "source": [
    "np.array(features)[coef == 0]"
   ]
  },
  {
   "cell_type": "code",
   "execution_count": null,
   "id": "d151aa02",
   "metadata": {},
   "outputs": [],
   "source": []
  }
 ],
 "metadata": {
  "kernelspec": {
   "display_name": "Python 3 (ipykernel)",
   "language": "python",
   "name": "python3"
  },
  "language_info": {
   "codemirror_mode": {
    "name": "ipython",
    "version": 3
   },
   "file_extension": ".py",
   "mimetype": "text/x-python",
   "name": "python",
   "nbconvert_exporter": "python",
   "pygments_lexer": "ipython3",
   "version": "3.11.2"
  }
 },
 "nbformat": 4,
 "nbformat_minor": 5
}
